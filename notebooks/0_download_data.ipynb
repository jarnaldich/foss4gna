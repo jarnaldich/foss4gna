{
 "cells": [
  {
   "cell_type": "code",
   "execution_count": 1,
   "metadata": {},
   "outputs": [
    {
     "name": "stdout",
     "output_type": "stream",
     "text": [
      "  % Total    % Received % Xferd  Average Speed   Time    Time     Time  Current\n",
      "                                 Dload  Upload   Total   Spent    Left  Speed\n",
      "100  148M  100  148M    0     0  16.8M      0  0:00:08  0:00:08 --:--:-- 21.4M  0:00:14  0:00:02  0:00:12  9.9M\n",
      "curl: Saved to filename '20190321_174348_0f1a_3B_AnalyticMS.tif'\n",
      "  % Total    % Received % Xferd  Average Speed   Time    Time     Time  Current\n",
      "                                 Dload  Upload   Total   Spent    Left  Speed\n",
      "100 10441  100 10441    0     0  20716      0 --:--:-- --:--:-- --:--:-- 20716\n",
      "curl: Saved to filename '20190321_174348_0f1a_3B_AnalyticMS_metadata.xml'\n"
     ]
    }
   ],
   "source": [
    "# download 4-Band Analytic PlanetScope asset\n",
    "!curl -O -J https://hello.planet.com/data/s/UG2TX98suVmmi9q/download\n",
    "\n",
    "# download XML metadata\n",
    "!curl -O -J https://hello.planet.com/data/s/jqDQE8xUHiD511e/download"
   ]
  },
  {
   "cell_type": "code",
   "execution_count": 2,
   "metadata": {},
   "outputs": [
    {
     "name": "stdout",
     "output_type": "stream",
     "text": [
      "  % Total    % Received % Xferd  Average Speed   Time    Time     Time  Current\n",
      "                                 Dload  Upload   Total   Spent    Left  Speed\n",
      "100 65.9M  100 65.9M    0     0  27.7M      0  0:00:02  0:00:02 --:--:-- 27.7M\n",
      "curl: Saved to filename '20160831_180302_0e26_3B_Visual.tif'\n"
     ]
    }
   ],
   "source": [
    "# download 3-Band Visual PlanetScope asset\n",
    "!curl -O -J https://hello.planet.com/data/s/ZWwAg1RcmIN5h9R/download"
   ]
  },
  {
   "cell_type": "markdown",
   "metadata": {},
   "source": [
    "Trying to save a notebook"
   ]
  },
  {
   "cell_type": "code",
   "execution_count": 5,
   "metadata": {},
   "outputs": [
    {
     "name": "stdout",
     "output_type": "stream",
     "text": [
      "On branch master\n",
      "Your branch is up to date with 'origin/master'.\n",
      "\n",
      "Changes not staged for commit:\n",
      "  (use \"git add <file>...\" to update what will be committed)\n",
      "  (use \"git checkout -- <file>...\" to discard changes in working directory)\n",
      "\n",
      "\t\u001b[31mmodified:   0_download_data.ipynb\u001b[m\n",
      "\n",
      "Untracked files:\n",
      "  (use \"git add <file>...\" to include in what will be committed)\n",
      "\n",
      "\t\u001b[31m../.bash_logout\u001b[m\n",
      "\t\u001b[31m../.bashrc\u001b[m\n",
      "\t\u001b[31m../.config/\u001b[m\n",
      "\t\u001b[31m../.ipython/\u001b[m\n",
      "\t\u001b[31m../.local/\u001b[m\n",
      "\t\u001b[31m../.profile\u001b[m\n",
      "\t\u001b[31m20160831_180302_0e26_3B_Visual.tif\u001b[m\n",
      "\t\u001b[31m20190321_174348_0f1a_3B_AnalyticMS.tif\u001b[m\n",
      "\t\u001b[31m20190321_174348_0f1a_3B_AnalyticMS_metadata.xml\u001b[m\n",
      "\n",
      "no changes added to commit (use \"git add\" and/or \"git commit -a\")\n",
      "\n",
      "*** Please tell me who you are.\n",
      "\n",
      "Run\n",
      "\n",
      "  git config --global user.email \"you@example.com\"\n",
      "  git config --global user.name \"Your Name\"\n",
      "\n",
      "to set your account's default identity.\n",
      "Omit --global to set the identity only in this repository.\n",
      "\n",
      "fatal: unable to auto-detect email address (got 'jovyan@jupyter-jarnaldich-2dfoss4gna-2dajvyjoju.(none)')\n"
     ]
    }
   ],
   "source": [
    "!git status\n",
    "!git config --global user.email \"jarnaldich@xample.com\"\n",
    "!git config --global user.name \"Your Name\"\n",
    "!git commit -a -m 'seeing if this works'"
   ]
  }
 ],
 "metadata": {
  "kernelspec": {
   "display_name": "Python 3",
   "language": "python",
   "name": "python3"
  },
  "language_info": {
   "codemirror_mode": {
    "name": "ipython",
    "version": 3
   },
   "file_extension": ".py",
   "mimetype": "text/x-python",
   "name": "python",
   "nbconvert_exporter": "python",
   "pygments_lexer": "ipython3",
   "version": "3.7.3"
  }
 },
 "nbformat": 4,
 "nbformat_minor": 2
}
